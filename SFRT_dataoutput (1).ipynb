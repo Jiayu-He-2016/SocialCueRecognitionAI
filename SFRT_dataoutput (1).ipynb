{
  "cells": [
    {
      "cell_type": "code",
      "execution_count": null,
      "id": "0ac830e7-ad70-42ff-941d-fbc1a808fea4",
      "metadata": {
        "id": "0ac830e7-ad70-42ff-941d-fbc1a808fea4"
      },
      "outputs": [],
      "source": [
        "import os\n",
        "import json\n",
        "import requests\n",
        "\n",
        "\n",
        "def get_textonly_response(prompt, API_KEY):\n",
        "    \"\"\"Get a response from the OpenAI API using only text\n",
        "\n",
        "    Args:\n",
        "        prompt (str): The prompt to use\n",
        "        API_KEY (str): Your OpenAI API key\n",
        "    Returns:\n",
        "        response_json: The response from the OpenAI API as a JSON object\n",
        "    \"\"\"\n",
        "    headers = {\n",
        "        \"Content-Type\": \"application/json\",\n",
        "        \"Authorization\": f\"Bearer {API_KEY}\"\n",
        "    }\n",
        "\n",
        "    payload = {\n",
        "        \"model\": \"gpt-4o\",\n",
        "        \"top_p\": 0.5,\n",
        "        \"messages\": [\n",
        "            {\n",
        "             \"role\": \"user\",\n",
        "             \"content\": [\n",
        "                {\n",
        "                 \"type\": \"text\",\n",
        "                 \"text\": prompt\n",
        "                }\n",
        "             ]\n",
        "            }\n",
        "        ],\n",
        "        \"max_tokens\": 300\n",
        "    }\n",
        "\n",
        "    response = requests.post(\"https://api.openai.com/v1/chat/completions\",\n",
        "                             headers=headers, json=payload)\n",
        "\n",
        "    response_json = response.json()\n",
        "    return response_json\n",
        "\n",
        "def clean_response(response):\n",
        "    return response['choices'][0]['message']['content']\n",
        "\n",
        "def process_dataset(dataset_path, API_KEY, output_path, num_attempts,\n",
        "                    image_dir=None):\n",
        "    \"\"\"Process a dataset of prompts and images using the OpenAI API\n",
        "\n",
        "    Args:\n",
        "        dataset_path (str): A list of dictionaries, each containing an 'id',\n",
        "                            'prompt', and 'image'\n",
        "        API_KEY (str): Your OpenAI API key\n",
        "        output_path (str): The path to save the output JSON file\n",
        "        num_attempts (int): The number of attempts to make for each prompt\n",
        "        image_dir (str): The directory containing the images (if any)\n",
        "    \"\"\"\n",
        "    with open(dataset_path, \"r\") as f:\n",
        "        dataset = json.load(f)\n",
        "\n",
        "    if not os.path.exists(output_path):\n",
        "        with open(output_path, \"w\") as f:\n",
        "            json.dump([], f)\n",
        "        output_data = []\n",
        "\n",
        "    for i in range(len(dataset)):\n",
        "        id = dataset[i]['id']\n",
        "        prompt = dataset[i]['prompt']\n",
        "        image = dataset[i]['image']\n",
        "\n",
        "        if image_dir is not None:\n",
        "            image = f\"{image_dir}/{image}\"\n",
        "\n",
        "        for j in range(num_attempts):\n",
        "            if image is None:\n",
        "                response = get_textonly_response(prompt, API_KEY)\n",
        "            else:\n",
        "                response = get_image_response(prompt, image, API_KEY)\n",
        "            response = clean_response(response)\n",
        "            output_json = {\n",
        "                \"id\": id,\n",
        "                \"attempt\": j,\n",
        "                \"prompt\": prompt,\n",
        "                \"response\": response\n",
        "            }\n",
        "            output_data.append(output_json)\n",
        "\n",
        "    with open(output_path, \"w\") as f:\n",
        "        json.dump(output_data, f, indent=4)\n",
        "\n",
        "    return output_data\n"
      ]
    },
    {
      "cell_type": "code",
      "execution_count": null,
      "id": "e42585fe-c1bb-41fa-aa86-2a833bfc8139",
      "metadata": {
        "id": "e42585fe-c1bb-41fa-aa86-2a833bfc8139"
      },
      "outputs": [],
      "source": [
        "dataset_path = \"SFRT_textonly_dataset.json\"\n",
        "API_KEY = '' #replace with your key\n",
        "num_attempts = 1 #specify the number of trial\n",
        "output_path = \"SFRT_output.json\"\n"
      ]
    },
    {
      "cell_type": "code",
      "execution_count": null,
      "id": "1e13a8e2-3ff2-43c3-a29a-943ff24c26df",
      "metadata": {
        "id": "1e13a8e2-3ff2-43c3-a29a-943ff24c26df",
        "outputId": "9ef963e9-76b8-4227-9761-fb124361d4e3"
      },
      "outputs": [
        {
          "name": "stdout",
          "output_type": "stream",
          "text": [
            "Processing complete. Output saved to SFRT_output.json\n"
          ]
        }
      ],
      "source": [
        "output = process_dataset(dataset_path, API_KEY, output_path, num_attempts)\n",
        "print(\"Processing complete. Output saved to\", output_path)"
      ]
    },
    {
      "cell_type": "code",
      "execution_count": null,
      "id": "de845754-62e6-4fee-ac89-1056f42fb6ae",
      "metadata": {
        "id": "de845754-62e6-4fee-ac89-1056f42fb6ae"
      },
      "outputs": [],
      "source": []
    }
  ],
  "metadata": {
    "kernelspec": {
      "display_name": "Python 3 (ipykernel)",
      "language": "python",
      "name": "python3"
    },
    "language_info": {
      "codemirror_mode": {
        "name": "ipython",
        "version": 3
      },
      "file_extension": ".py",
      "mimetype": "text/x-python",
      "name": "python",
      "nbconvert_exporter": "python",
      "pygments_lexer": "ipython3",
      "version": "3.11.9"
    },
    "colab": {
      "provenance": []
    }
  },
  "nbformat": 4,
  "nbformat_minor": 5
}