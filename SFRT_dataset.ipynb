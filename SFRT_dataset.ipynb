{
 "cells": [
  {
   "cell_type": "markdown",
   "id": "a36f9b98-0f5a-4fea-844a-9921cc018586",
   "metadata": {},
   "source": [
    "TEXT-only dataset"
   ]
  },
  {
   "cell_type": "code",
   "execution_count": 11,
   "id": "d61ac6cf-c2d8-413a-b54e-b5ba0b71f7e5",
   "metadata": {},
   "outputs": [],
   "source": [
    "def format_json_item(id, image, prompt):\n",
    "    return {\n",
    "        \"id\": id,\n",
    "        \"image\": image,\n",
    "        \"prompt\": prompt\n",
    "    }"
   ]
  },
  {
   "cell_type": "code",
   "execution_count": 12,
   "id": "1d5cbe9b-c5bf-40b9-a4cb-cd37bb434890",
   "metadata": {},
   "outputs": [
    {
     "name": "stdout",
     "output_type": "stream",
     "text": [
      "On this test, there will be 9 situations.\n",
      "For each situation, there is a list of 14 actions and 14 goals.\n",
      "Your task is to reply only to those actions and goals that you believe are associated with or relevant to each situation.\n"
     ]
    }
   ],
   "source": [
    "instructions = \"On this test, there will be 9 situations.\\nFor each situation, there is a list of 14 actions and 14 goals.\\nYour task is to reply only to those actions and goals that you believe are associated with or relevant to each situation.\"\n",
    "print(instructions)"
   ]
  },
  {
   "cell_type": "code",
   "execution_count": 13,
   "id": "9f348e77-0978-45a0-8d26-7174f17e5ca5",
   "metadata": {},
   "outputs": [],
   "source": [
    "scena1_action = \"Now, reply with a list of actions that is usually associated with the situation below.\\n In other words, ACTIONS which people perform while TAKING A TEST… \\nYour answer choices are: “Writing an answer”, “Flirting with a student”, “Riding a bike”, “Writing with crayons”, “Recording an appointment”, “Drawing a picture”, “Sharpening your pencil”, “Talking with peers”, “Reading a question”, “Borrowing money”, “Erasing an answer”, “Writing your name”, “Counting the pages”, “Putting on lipsticks”\"\n",
    "scena1_goal = \"Now, reply with a list of goals that is usually associated with the situation below.\\n In other words, GOALS which people perform while TAKING A TEST… \\nYour answer choices are: “To earn a degree”, “To lower grades”, “To get an ‘A’”, “To reduce stress”, “To pass a course”, “To make friends”, “To get a detention”, “To graduate from school”, “To get married”, “To demonstrate expertise”, “ To win a lottery”, “To obtain a job”, “To get drunk”, “To win a prize”\"\n",
    "\n",
    "scena2_action = \"Now, reply with a list of actions that is usually associated with the situation below.\\n In other words, ACTIONS which people perform while BUILDING AN IGLOO… \\nYour answer choices are: “Making snow blocks”, “Painting the ice”, “Burning animal fat”. “Making a snowman”, “Cutting out a door”, “Sculpting a dome shape”, “Packing snow”, “Melting the ice”, “Drinking coffee”, “Pulling a sled”, “Working in the cold”, “Spearing a whale”, “Mopping the floor”, “Pilling snow bricks”\"\n",
    "scena2_goal = \"Now, reply with a list of goals that is usually associated with the situation below.\\n In other words, GOALS which people perform while BUILDING AN IGLOO… \\nYour answer choices are: “To stay warm in winter”, “To feel safe”, “To light fires in”, “To secure protection”, “To hibernate during winter”, “To store food in”, “To obtain shelter”, “To score a goal”, “To save money”, “To hunt for seals”, “To store the furniture”, “To be protected from storms”, “To win a fight”, “To become wiser”\"\n",
    "\n",
    "scena3_action = \"Now, reply with a list of actions that is usually associated with the situation below.\\n In other words, ACTIONS which people perform while READING IN A LIBRARY… \\nYour answer choices are: “Watching a bullfight”, “Taking notes”, “Opening your mail”, “Shooting a gun”, “Putting on eye glasses”, “Highlighting a sentence”, “Processing ideas”, “Phoning a friend”, “Changing a tire”, “Writing a letter”, “Eating a meal”, “Underlining a sentence”, “Marking the page”, “Taking a test”\"\n",
    "scena3_goal = \"Now, reply with a list of goals that is usually associated with the situation below.\\n In other words, GOALS which people perform while READING IN A LIBRARY… \\nYour answer choices are: “To earn money”, “To do research”, “To prepare for a test”, “To study in a quiet place”, “To obtain books”, “To travel the world”, “To improve concentration”, “To sell a house”, “To exercise your mind”, “To save money”, “To improve social skills”, “To get pregnant”, To get exercise”, “To improve your memory”\"\n",
    "\n",
    "scena4_action = \"Now, reply with a list of actions that is usually associated with the situation below.\\n In other words, ACTIONS which people perform while CELEBRATING A BAR MITZVAH… \\nYour answer choices are: “Putting on a suit”, “Writing a test”, “Reciting poetry”, “Shaving a beard”, “Growing a mustache”, “Confessing sins to a priest”, “Putting on jeans”, “Walking on the beach”, “Receiving gifts”, “Reading scripture”, “Praying to God”, “Making a speech”, “Toasting to manhood”, “Eating pork”\"\n",
    "scena4_goal = \"Now, reply with a list of goals that is usually associated with the situation below.\\n In other words, GOALS which people perform while CELEBRATING A BAR MITZVAH… \\nYour answer choices are: “To earn a degree”, “To make friends”, “To honor God”, “To change your religion”, “To recognize independence”, “To become a priest”, “To purify your soul”, “To join the army”, “To acknowledge a 13th birthday”, “To recognize manhood”, “To maintain tradition”, “To honor the pope”, “To earn religious privileges”, “To become a rabbi”\"\n",
    "\n",
    "scena5_action = \"Now, reply with a list of actions that is usually associated with the situation below.\\n In other words, ACTIONS which people perform while DRIVING A CAR… \\nYour answer choices are: “Reading an insurance form”, “Smoking a cigarette”, “Playing in the park”, “Changing a tire”, “Paying a ticket”, “Installing a tape machine”, “Checking your blind spot”, “Fixing the muffler”, “Turning the key”, “Fastening your seat belt”, “Checking the mirror”, “Holding the wheel”, “Unlocking the brake”, “Brushing your teeth”\"\n",
    "scena5_goal = \"Now, reply with a list of goals that is usually associated with the situation below.\\n In other words, GOALS which people perform while DRIVING A CAR… \\nYour answer choices are: “To save electricity”, “To pay the bills”, “To explore a neighborhood”, “To increase stress”, “To waste gas”, “To become a lawyer”, “To visit friends”, “To conserve energy”, “To meet people”, “To save time”, “To take a vacation”, “To flaunt your car”, “To improve driving skills”, “To catch a fish”\"\n",
    "\n",
    "scena6_action = \"Now, reply with a list of actions that is usually associated with the situation below.\\n In other words, ACTIONS which people perform while GETTING A HAIRCUT… \\nYour answer choices are: “Looking in the mirror”, “Washing your face”, “Jogging on a track”, “Putting on make-up”, “Vacuuming a rug”, “Studying for a test”, “Setting up an appointment”, “Putting on a gown”, “Giving instructions”, “Getting a manicure”, “Snorting cocaine”, “Washing your hair”, “Standing in line”, “Reading magazines”\"\n",
    "scena6_goal = \"Now, reply with a list of goals that is usually associated with the situation below.\\n In other words, GOALS which people perform while GETTING A HAIRCUT… \\nYour answer choices are: “To prepare for a date”, “To maintain healthy hair”, “To lengthen hair”, “To understand psychology”, “To write a story”, “To make new friends”, “To improve appearance”, “To change your personality”, “To cut split-ends”, “To save money”, “To look different”, “To become a barber”, “To reduce anxiety”, “To shorten hair length”\"\n",
    "\n",
    "scena7_action = \"Now, reply with a list of actions that is usually associated with the situation below.\\n In other words, ACTIONS which people perform while PERFORMING SURGERY… \\nYour answer choices are: “Monitoring a heart beat”, “Putting a cast on”, “Doing an ultrasound”, “Putting on a mask”, “Making a bed”, “Lifting weights”, “Talking to nurses”, “Rejoining a limb”, “Cleaning the oven”, “Prescribing medication”, “Removing a tumor”, “Washing your hands”, “Reading a book”, “Signing your name”\"\n",
    "scena7_goal = \"Now, reply with a list of goals that is usually associated with the situation below.\\n In other words, GOALS which people perform while PERFORMING SURGERY… \\nYour answer choices are: “To cure a disease”, “To cause death”, “To diagnose AIDS”, To prolong life”, “To transplant an organ”, “To prevent an injury”, “To cure diabetes”, “To treat a problem”, “To reduce suffering”, “To reverse aging”, “To join a gang”, “To induce a coma”, “To prevent death”, “To win a contest”\"\n",
    "\n",
    "scena8_action = \"Now, reply with a list of actions that is usually associated with the situation below.\\n In other words, ACTIONS which people perform while PLAYING MONOPOLY… \\nYour answer choices are: “Washing a car”, “Rolling the dice”, “Going to jail”, “Choosing a team”, “Spinning the bottle”, “Collecting rent”, “Using a timer”, “Making up rules”, “Flying a kite”, “Dancing with friends”, “Drawing a chance card”, “Passing Go”, “Picking up a card”, “Spinning the wheel”\"\n",
    "scena8_goal = \"Now, reply with a list of goals that is usually associated with the situation below.\\n In other words, GOALS which people perform while PLAYING MONOPOLY… \\nYour answer choices are: “To beat the buzzer”, “To earn a living”, “To buy hotels”, “To win the game”, “To spell the most words”, “To socialize with friends”, “To win a prize”, “To demonstrate knowledge”, “To buy properties”, “To earn the most points”, “To answer the most questions”, “To finish high school”, “To have fun”, “To accumulate money”\"\n",
    "\n",
    "scena9_action = \"Now, reply with a list of actions that is usually associated with the situation below.\\n In other words, ACTIONS which people perform while PERFORMING AN ULTRASOUND… \\nYour answer choices are: “Cleaning your ears”, “Making a cast”, “Giving directions to the patient”, “Feeding an infant”, “Talking to a patient”, “Applying gel to the site”, “Setting up the equipment”, “Listening to music”, “Analyzing a urine sample”, “Putting on headphones”, “Taking a sauna”, “Listening to a heart beat”, “Observing movements”, “Cutting body tissue”\"\n",
    "scena9_goal = \"Now, reply with a list of goals that is usually associated with the situation below.\\n In other words, GOALS which people perform while PERFORMING AN ULTRASOUND… \\nYour answer choices are: “To detect twins”, “To examine infant growth”, “To reduce pain”, “To learn to type”, “To detect abnormalities”, “To detect tumors”, “To identify pregnancy”, “To buy a house”, “To determine size of the infant”, “To write a book”, “To stop the bleeding”, “To cure polio”, “To become a teacher”, “To destroy cancer cells”\"\n"
   ]
  },
  {
   "cell_type": "code",
   "execution_count": 14,
   "id": "3ddf8972-ce61-4196-b2bf-22689d569348",
   "metadata": {},
   "outputs": [
    {
     "data": {
      "text/plain": [
       "[{'id': '00',\n",
       "  'image': None,\n",
       "  'prompt': 'On this test, there will be 9 situations.\\nFor each situation, there is a list of 14 actions and 14 goals.\\nYour task is to reply only to those actions and goals that you believe are associated with or relevant to each situation.\\nNow, reply with a list of actions that is usually associated with the situation below.\\n In other words, ACTIONS which people perform while TAKING A TEST… \\nYour answer choices are: “Writing an answer”, “Flirting with a student”, “Riding a bike”, “Writing with crayons”, “Recording an appointment”, “Drawing a picture”, “Sharpening your pencil”, “Talking with peers”, “Reading a question”, “Borrowing money”, “Erasing an answer”, “Writing your name”, “Counting the pages”, “Putting on lipsticks”'},\n",
       " {'id': '01',\n",
       "  'image': None,\n",
       "  'prompt': 'On this test, there will be 9 situations.\\nFor each situation, there is a list of 14 actions and 14 goals.\\nYour task is to reply only to those actions and goals that you believe are associated with or relevant to each situation.\\nNow, reply with a list of goals that is usually associated with the situation below.\\n In other words, GOALS which people perform while TAKING A TEST… \\nYour answer choices are: “To earn a degree”, “To lower grades”, “To get an ‘A’”, “To reduce stress”, “To pass a course”, “To make friends”, “To get a detention”, “To graduate from school”, “To get married”, “To demonstrate expertise”, “ To win a lottery”, “To obtain a job”, “To get drunk”, “To win a prize”'},\n",
       " {'id': '02',\n",
       "  'image': None,\n",
       "  'prompt': 'On this test, there will be 9 situations.\\nFor each situation, there is a list of 14 actions and 14 goals.\\nYour task is to reply only to those actions and goals that you believe are associated with or relevant to each situation.\\nNow, reply with a list of actions that is usually associated with the situation below.\\n In other words, ACTIONS which people perform while BUILDING AN IGLOO… \\nYour answer choices are: “Making snow blocks”, “Painting the ice”, “Burning animal fat”. “Making a snowman”, “Cutting out a door”, “Sculpting a dome shape”, “Packing snow”, “Melting the ice”, “Drinking coffee”, “Pulling a sled”, “Working in the cold”, “Spearing a whale”, “Mopping the floor”, “Pilling snow bricks”'}]"
      ]
     },
     "execution_count": 14,
     "metadata": {},
     "output_type": "execute_result"
    }
   ],
   "source": [
    "all_items = [scena1_action, scena1_goal, scena2_action, scena2_goal, scena3_action, scena3_goal, scena4_action, scena4_goal, scena5_action, scena5_goal, scena6_action, scena6_goal, scena7_action, scena7_goal, scena8_action, scena8_goal, scena9_action, scena9_goal]\n",
    "\n",
    "json_items = []\n",
    "for i in range(len(all_items)):\n",
    "    id = f\"{i:02d}\"\n",
    "    image = None\n",
    "    prompt = instructions + \"\\n\" + all_items[i]\n",
    "    json_items.append(format_json_item(id, image, prompt))\n"
   ]
  },
  {
   "cell_type": "code",
   "execution_count": 15,
   "id": "2a5cc531-dbbe-49b5-8296-dadee9ee10d7",
   "metadata": {},
   "outputs": [
    {
     "name": "stdout",
     "output_type": "stream",
     "text": [
      "Saved 18 items to SFRT_textonly_dataset.json\n"
     ]
    }
   ],
   "source": [
    "output_path = 'SFRT_textonly_dataset.json'\n",
    "\n",
    "import json\n",
    "with open(output_path, 'w') as f: # open file in write mode\n",
    "    # indent=4 is not necessary but makes it more readable for us\n",
    "    json.dump(json_items, f, indent=4) # write our list of json items to file\n",
    "    print(f\"Saved {len(json_items)} items to {output_path}\")"
   ]
  },
  {
   "cell_type": "code",
   "execution_count": null,
   "id": "a4d1e220-ec40-4fe4-8496-0209a650e0b1",
   "metadata": {},
   "outputs": [],
   "source": []
  }
 ],
 "metadata": {
  "kernelspec": {
   "display_name": "Python 3 (ipykernel)",
   "language": "python",
   "name": "python3"
  },
  "language_info": {
   "codemirror_mode": {
    "name": "ipython",
    "version": 3
   },
   "file_extension": ".py",
   "mimetype": "text/x-python",
   "name": "python",
   "nbconvert_exporter": "python",
   "pygments_lexer": "ipython3",
   "version": "3.11.9"
  }
 },
 "nbformat": 4,
 "nbformat_minor": 5
}
